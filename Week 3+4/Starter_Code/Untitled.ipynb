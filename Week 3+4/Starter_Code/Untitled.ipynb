{
 "cells": [
  {
   "cell_type": "code",
   "execution_count": 1,
   "metadata": {},
   "outputs": [],
   "source": [
    "import requests\n",
    "import re\n",
    "import json"
   ]
  },
  {
   "cell_type": "code",
   "execution_count": 8,
   "metadata": {},
   "outputs": [],
   "source": [
    "url = 'https://official-joke-api.appspot.com/jokes/programming/random'"
   ]
  },
  {
   "cell_type": "code",
   "execution_count": 9,
   "metadata": {},
   "outputs": [
    {
     "data": {
      "text/plain": [
       "<Response [200]>"
      ]
     },
     "execution_count": 9,
     "metadata": {},
     "output_type": "execute_result"
    }
   ],
   "source": [
    "a"
   ]
  },
  {
   "cell_type": "code",
   "execution_count": 10,
   "metadata": {},
   "outputs": [],
   "source": [
    "resp = requests.get(url)\n",
    "data = resp.json()"
   ]
  },
  {
   "cell_type": "code",
   "execution_count": 11,
   "metadata": {},
   "outputs": [
    {
     "data": {
      "text/plain": [
       "[{'id': 15,\n",
       "  'type': 'programming',\n",
       "  'setup': \"What's the best thing about a Boolean?\",\n",
       "  'punchline': \"Even if you're wrong, you're only off by a bit.\"}]"
      ]
     },
     "execution_count": 11,
     "metadata": {},
     "output_type": "execute_result"
    }
   ],
   "source": [
    "data"
   ]
  },
  {
   "cell_type": "code",
   "execution_count": 12,
   "metadata": {},
   "outputs": [],
   "source": [
    "resp = requests.get(url)\n",
    "data = resp.json()"
   ]
  },
  {
   "cell_type": "code",
   "execution_count": 13,
   "metadata": {},
   "outputs": [
    {
     "data": {
      "text/plain": [
       "[{'id': 16,\n",
       "  'type': 'programming',\n",
       "  'setup': \"What's the object-oriented way to become wealthy?\",\n",
       "  'punchline': 'Inheritance'}]"
      ]
     },
     "execution_count": 13,
     "metadata": {},
     "output_type": "execute_result"
    }
   ],
   "source": [
    "data"
   ]
  },
  {
   "cell_type": "code",
   "execution_count": 14,
   "metadata": {},
   "outputs": [],
   "source": [
    "# API "
   ]
  },
  {
   "cell_type": "code",
   "execution_count": 25,
   "metadata": {},
   "outputs": [],
   "source": [
    "deck_id = ''\n",
    "#* Create a deck and shuffle -> \n",
    "shuffle = f\"https://deckofcardsapi.com/api/deck/new/shuffle/?deck_count=6\" \n",
    "\n",
    "#* Draw cards -> \n",
    "draw1 = f\"https://deckofcardsapi.com/api/deck/{deck_id}/draw/?count=2\"\n",
    "\n",
    "#* Shuffle pre-existing deck -> `f\"https://deckofcardsapi.com/api/deck/{deck_id}/shuffle/\"`\n",
    "shuffle_existing_deck = f\"https://deckofcardsapi.com/api/deck/{deck_id}/shuffle/\""
   ]
  },
  {
   "cell_type": "code",
   "execution_count": 26,
   "metadata": {},
   "outputs": [],
   "source": [
    "resp = requests.get(shuffle)\n",
    "data = resp.json()"
   ]
  },
  {
   "cell_type": "code",
   "execution_count": 27,
   "metadata": {},
   "outputs": [
    {
     "data": {
      "text/plain": [
       "{'success': True,\n",
       " 'deck_id': 'd79jy8rvl9km',\n",
       " 'remaining': 312,\n",
       " 'shuffled': True}"
      ]
     },
     "execution_count": 27,
     "metadata": {},
     "output_type": "execute_result"
    }
   ],
   "source": [
    "data"
   ]
  },
  {
   "cell_type": "code",
   "execution_count": 28,
   "metadata": {},
   "outputs": [],
   "source": [
    "deck_id = data['deck_id']"
   ]
  },
  {
   "cell_type": "code",
   "execution_count": 31,
   "metadata": {},
   "outputs": [],
   "source": [
    "draw1 = f\"https://deckofcardsapi.com/api/deck/{deck_id}/draw/?count=2\""
   ]
  },
  {
   "cell_type": "code",
   "execution_count": 32,
   "metadata": {},
   "outputs": [],
   "source": [
    "resp = requests.get(draw1)\n",
    "data = resp.json()"
   ]
  },
  {
   "cell_type": "code",
   "execution_count": 33,
   "metadata": {},
   "outputs": [
    {
     "data": {
      "text/plain": [
       "{'success': True,\n",
       " 'deck_id': 'd79jy8rvl9km',\n",
       " 'cards': [{'code': '3D',\n",
       "   'image': 'https://deckofcardsapi.com/static/img/3D.png',\n",
       "   'images': {'svg': 'https://deckofcardsapi.com/static/img/3D.svg',\n",
       "    'png': 'https://deckofcardsapi.com/static/img/3D.png'},\n",
       "   'value': '3',\n",
       "   'suit': 'DIAMONDS'},\n",
       "  {'code': '2D',\n",
       "   'image': 'https://deckofcardsapi.com/static/img/2D.png',\n",
       "   'images': {'svg': 'https://deckofcardsapi.com/static/img/2D.svg',\n",
       "    'png': 'https://deckofcardsapi.com/static/img/2D.png'},\n",
       "   'value': '2',\n",
       "   'suit': 'DIAMONDS'}],\n",
       " 'remaining': 310}"
      ]
     },
     "execution_count": 33,
     "metadata": {},
     "output_type": "execute_result"
    }
   ],
   "source": [
    "data"
   ]
  },
  {
   "cell_type": "code",
   "execution_count": null,
   "metadata": {},
   "outputs": [],
   "source": []
  }
 ],
 "metadata": {
  "kernelspec": {
   "display_name": "Python 3",
   "language": "python",
   "name": "python3"
  },
  "language_info": {
   "codemirror_mode": {
    "name": "ipython",
    "version": 3
   },
   "file_extension": ".py",
   "mimetype": "text/x-python",
   "name": "python",
   "nbconvert_exporter": "python",
   "pygments_lexer": "ipython3",
   "version": "3.8.3"
  }
 },
 "nbformat": 4,
 "nbformat_minor": 4
}
